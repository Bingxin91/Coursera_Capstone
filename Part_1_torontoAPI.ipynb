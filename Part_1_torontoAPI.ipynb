{
  "nbformat": 4,
  "nbformat_minor": 0,
  "metadata": {
    "colab": {
      "name": "Part_1_torontoAPI.ipynb",
      "provenance": [],
      "collapsed_sections": []
    },
    "kernelspec": {
      "name": "python3",
      "display_name": "Python 3"
    }
  },
  "cells": [
    {
      "cell_type": "code",
      "metadata": {
        "id": "ZQ99ulfpJm8F"
      },
      "source": [
        "import numpy as np\r\n",
        "import pandas as pd\r\n",
        "import matplotlib.pyplot as plt\r\n",
        "import json, lxml\r\n",
        "from geopy.geocoders import Nominatim \r\n",
        "import requests \r\n",
        "from pandas.io.json import json_normalize \r\n",
        "import matplotlib.cm as cm\r\n",
        "import matplotlib.colors as colors\r\n",
        "from sklearn.cluster import KMeans\r\n",
        "from bs4 import BeautifulSoup\r\n",
        "import warnings\r\n",
        "import folium"
      ],
      "execution_count": null,
      "outputs": []
    },
    {
      "cell_type": "markdown",
      "metadata": {
        "id": "0vEhzVHDehq7"
      },
      "source": [
        "Get data from Wiki"
      ]
    },
    {
      "cell_type": "code",
      "metadata": {
        "id": "8p3l5-uhJvOW"
      },
      "source": [
        "url = 'https://en.wikipedia.org/wiki/List_of_postal_codes_of_Canada:_M'\r\n",
        "soup = BeautifulSoup(requests.get(url).text)\r\n",
        "\r\n",
        "table = soup.find('div', class_='mw-parser-output').table.tbody\r\n",
        "\r\n",
        "cols = ['PostalCode', 'Borough', 'Neighbourhood']\r\n",
        "data = dict({key:[]*len(cols) for key in cols})\r\n",
        "\r\n",
        "for row in table.find_all('tr'):\r\n",
        "    for i,column in zip(row.find_all('td'),cols):\r\n",
        "        i = i.text\r\n",
        "        i = i.replace('\\n', '')\r\n",
        "        data[column].append(i)\r\n",
        "\r\n",
        "df = pd.DataFrame.from_dict(data=data)[cols]"
      ],
      "execution_count": null,
      "outputs": []
    },
    {
      "cell_type": "markdown",
      "metadata": {
        "id": "mDj6XW-melZw"
      },
      "source": [
        "Clean Data"
      ]
    },
    {
      "cell_type": "code",
      "metadata": {
        "colab": {
          "base_uri": "https://localhost:8080/"
        },
        "id": "0261rQYkZx1G",
        "outputId": "5c2eef7e-f785-480d-8497-69982ebb46b9"
      },
      "source": [
        "df = df[df.Borough != 'Not assigned'] #Only process the cells that have an assigned borough. Ignore cells with a borough that is Not assigned.\n",
        "\n",
        "df2 = df[df.Neighbourhood != \"Not assigned\"]\n",
        "df1 = df[df.Neighbourhood == \"Not assigned\"]\n",
        "df1['Neighbourhood'] = df1['Borough'] #If a cell has a borough but a Not assigned  neighborhood, then the neighborhood will be the same as the borough.\n",
        "#More than one neighborhood can exist in one postal code area. \n",
        "df = df1.append(df2)\n",
        "print(len(df))\n",
        "i = 0\n",
        "postcodes = []\n",
        "for index, row in df.iterrows():\n",
        "  if i == 0:\n",
        "    df_sel = pd.DataFrame(columns=cols)\n",
        "    df_sel = df_sel.append({'PostalCode': row[0], 'Borough': row[1], 'Neighbourhood': row[2]}, ignore_index=True)\n",
        "    postcodes.append(row[0])\n",
        "  else:\n",
        "    if row[0] in postcodes:\n",
        "      existing_n = df_sel.loc[df['PostalCode'] == row[0], 'Neighbourhood']\n",
        "      new_n = existing_n+\",\"+ row[2]\n",
        "      df_sel = df_sel.append({'PostalCode': row[0], 'Borough': row[1], 'Neighbourhood': new_n}, ignore_index=True)\n",
        "    else:\n",
        "      df_sel = df_sel.append({'PostalCode': row[0], 'Borough': row[1], 'Neighbourhood': row[2]}, ignore_index=True)\n",
        "  i = i+1\n",
        "\n",
        "df = df_sel\n",
        "print(df.head())\n",
        "print(df.shape)"
      ],
      "execution_count": null,
      "outputs": [
        {
          "output_type": "stream",
          "text": [
            "103\n",
            "  PostalCode           Borough                                Neighbourhood\n",
            "0        M3A        North York                                    Parkwoods\n",
            "1        M4A        North York                             Victoria Village\n",
            "2        M5A  Downtown Toronto                    Regent Park, Harbourfront\n",
            "3        M6A        North York             Lawrence Manor, Lawrence Heights\n",
            "4        M7A  Downtown Toronto  Queen's Park, Ontario Provincial Government\n",
            "(103, 3)\n"
          ],
          "name": "stdout"
        }
      ]
    }
  ]
}